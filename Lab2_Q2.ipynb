{
 "cells": [
  {
   "cell_type": "markdown",
   "metadata": {
    "deletable": false,
    "editable": false,
    "nbgrader": {
     "cell_type": "markdown",
     "checksum": "3e0e14dbf22a35a04abdd8fafc091f54",
     "grade": false,
     "grade_id": "cell-dbf37dcea5d7dc5c",
     "locked": true,
     "schema_version": 3,
     "solution": false,
     "task": false
    }
   },
   "source": [
    "## Q2 (2 points)\n",
    "จงเขียนโปรแกรมที่หาว่าสามารถหาผลเฉลยของสมการกำลังสองจากสูตร $𝑥 = −𝑏±\\sqrt{b^2-4ac}$ ได้หรือไม่ \n",
    "\n",
    "โดยตรวจสอบว่า $𝑏^2 − 4𝑎𝑐 ≥ 0$ และ $𝑎 ≠ 0$ แล้วแสดงผลลัพธ์ดังตัวอย่างข้างล่างนี้"
   ]
  },
  {
   "cell_type": "markdown",
   "metadata": {
    "deletable": false,
    "editable": false,
    "nbgrader": {
     "cell_type": "markdown",
     "checksum": "a5ecd49d562178988b3836f22c5da708",
     "grade": false,
     "grade_id": "cell-7ae57c7b0fc2869d",
     "locked": true,
     "schema_version": 3,
     "solution": false,
     "task": false
    }
   },
   "source": [
    "###  ตัวอย่างการทำงาน: \n",
    "\n",
    "Enter coefficients a, b, c : **1, 4, 3** <br>\n",
    "Can use quadratic formula: True"
   ]
  },
  {
   "cell_type": "markdown",
   "metadata": {
    "deletable": false,
    "editable": false,
    "nbgrader": {
     "cell_type": "markdown",
     "checksum": "5b14dc45b3a6c3e1c9b0719a808ca78a",
     "grade": false,
     "grade_id": "cell-1b10c564484fa711",
     "locked": true,
     "schema_version": 3,
     "solution": false,
     "task": false
    }
   },
   "source": [
    "###  ตัวอย่างการทำงาน: \n",
    "\n",
    "Enter coefficients a, b, c : **2.3, -1.5, 1.5** <br>\n",
    "Can use quadratic formula: False"
   ]
  },
  {
   "cell_type": "code",
   "execution_count": 4,
   "metadata": {
    "deletable": false,
    "nbgrader": {
     "cell_type": "code",
     "checksum": "00b4f29d142119c6df600285bfcbb9ed",
     "grade": false,
     "grade_id": "quardatic",
     "locked": false,
     "schema_version": 3,
     "solution": true
    }
   },
   "outputs": [],
   "source": [
    "def run():\n",
    "    # YOUR CODE HERE\n",
    "    a, b, c = [float(x) for x in (input(\"Enter coefficients a, b, c : \").split(\",\"))]\n",
    "    if a == 0 or b ** 2 < 4 * a * c:\n",
    "        print(\"Can use quadratic formula:\",False)\n",
    "    else:\n",
    "        print(\"Can use quadratic formula:\",True)"
   ]
  },
  {
   "cell_type": "code",
   "execution_count": 5,
   "metadata": {
    "deletable": false,
    "editable": false,
    "nbgrader": {
     "cell_type": "code",
     "checksum": "b7b03893ed0aaf1a2af60ae612b4be37",
     "grade": false,
     "grade_id": "cell-befa13e6c82bd29b",
     "locked": true,
     "schema_version": 3,
     "solution": false,
     "task": false
    }
   },
   "outputs": [
    {
     "name": "stdout",
     "output_type": "stream",
     "text": [
      "Enter coefficients a, b, c : 1,4,3\n",
      "Can use quadratic formula: True\n"
     ]
    }
   ],
   "source": [
    "'''ตรวจสอบผลลัพธ์ของโปรแกรมด้วยการรันที่ cell นี้'''\n",
    "run()"
   ]
  },
  {
   "cell_type": "code",
   "execution_count": 6,
   "metadata": {
    "deletable": false,
    "editable": false,
    "nbgrader": {
     "cell_type": "code",
     "checksum": "a3f733b24e6e2878121871160e3256db",
     "grade": true,
     "grade_id": "partial",
     "locked": true,
     "points": 1,
     "schema_version": 3,
     "solution": false,
     "task": false
    }
   },
   "outputs": [],
   "source": [
    "'''ตรวจสอบผลการคำนวณ'''\n",
    "from unittest.mock import patch\n",
    "from io import StringIO\n",
    "import math\n",
    "\n",
    "def test(inputs,expected_output,exact_output): \n",
    "    with patch('builtins.input', side_effect=inputs), patch('sys.stdout', new_callable=StringIO) as mock_stdout:\n",
    "        run()\n",
    "        if exact_output:\n",
    "            assert mock_stdout.getvalue() == expected_output,mock_stdout.getvalue()\n",
    "        else:\n",
    "            assert expected_output in mock_stdout.getvalue(),mock_stdout.getvalue()\n",
    "            \n",
    "test(['1,4,3'],str(True),exact_output=False)\n",
    "test(['2.5,-1.5,1.5'],str(False),exact_output=False)   \n"
   ]
  },
  {
   "cell_type": "code",
   "execution_count": 7,
   "metadata": {
    "deletable": false,
    "editable": false,
    "nbgrader": {
     "cell_type": "code",
     "checksum": "0ef58852017f4c695ec4b0c82489561f",
     "grade": true,
     "grade_id": "exact",
     "locked": false,
     "points": 1,
     "schema_version": 3,
     "solution": false
    }
   },
   "outputs": [],
   "source": [
    "'''ตรวจสอบผลการคำนวณและการแสดงผลลัพธ์ให้เหมือนกับโจทย์ที่กำหนดให้'''\n",
    "test(['1,4,3'],'Can use quadratic formula: True\\n',exact_output=True)\n",
    "test(['2.5,-1.5,1.5'],'Can use quadratic formula: False\\n',exact_output=True)\n"
   ]
  },
  {
   "cell_type": "code",
   "execution_count": null,
   "metadata": {},
   "outputs": [],
   "source": []
  }
 ],
 "metadata": {
  "kernelspec": {
   "display_name": "Python 3 (ipykernel)",
   "language": "python",
   "name": "python3"
  },
  "language_info": {
   "codemirror_mode": {
    "name": "ipython",
    "version": 3
   },
   "file_extension": ".py",
   "mimetype": "text/x-python",
   "name": "python",
   "nbconvert_exporter": "python",
   "pygments_lexer": "ipython3",
   "version": "3.9.12"
  }
 },
 "nbformat": 4,
 "nbformat_minor": 1
}
