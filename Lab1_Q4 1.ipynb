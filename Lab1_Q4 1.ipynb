{
 "cells": [
  {
   "cell_type": "markdown",
   "metadata": {
    "deletable": false,
    "editable": false,
    "nbgrader": {
     "cell_type": "markdown",
     "checksum": "0f2d29ae3649b0eab422632ed9d4b0d4",
     "grade": false,
     "grade_id": "cell-3bfadf3aed27f570",
     "locked": true,
     "schema_version": 3,
     "solution": false,
     "task": false
    }
   },
   "source": [
    "---\n",
    "## Q4 (4 points)\n",
    "จงเขียนโปรแกรมที่รับชื่อและอายุจากผู้ใช้ แล้วคำนวณปีเกิดของผู้ใช้เพื่อสร้าง email address ของผู้ใช้โดย\n",
    "เอาชื่อมาต่อด้วยเลข 2 หลักหลังของปีเกิดและต่อด้วย @chula.ac.th แสดงผลลัพธ์ดังตัวอย่างข้างล่างนี้"
   ]
  },
  {
   "cell_type": "markdown",
   "metadata": {
    "deletable": false,
    "editable": false,
    "nbgrader": {
     "cell_type": "markdown",
     "checksum": "a4c81c4853b52613955027cf9e7dda4c",
     "grade": false,
     "grade_id": "cell-ec5606fd3a86d0a8",
     "locked": true,
     "schema_version": 3,
     "solution": false,
     "task": false
    }
   },
   "source": [
    "### ตัวอย่างการทำงาน: \n",
    "\n",
    "Name: Somsak \n",
    "\n",
    "Age : 19 \n",
    "\n",
    "Somsak46@chula.ac.th"
   ]
  },
  {
   "cell_type": "markdown",
   "metadata": {
    "deletable": false,
    "editable": false,
    "nbgrader": {
     "cell_type": "markdown",
     "checksum": "3d83e1218c98dbf0e1a48316df278d4f",
     "grade": false,
     "grade_id": "cell-857f2c5b2830974f",
     "locked": true,
     "schema_version": 3,
     "solution": false,
     "task": false
    }
   },
   "source": [
    "### ตัวอย่างการทำงาน: \n",
    "        \n",
    "Name: Jaidee\n",
    "\n",
    "Age : 64 \n",
    "\n",
    "Jaidee01@chula.ac.th"
   ]
  },
  {
   "cell_type": "markdown",
   "metadata": {
    "deletable": false,
    "editable": false,
    "nbgrader": {
     "cell_type": "markdown",
     "checksum": "a15a9cd3023b5a7f4ae2ee69f4aa4e78",
     "grade": false,
     "grade_id": "cell-f0a1903745fc19bb",
     "locked": true,
     "schema_version": 3,
     "solution": false,
     "task": false
    }
   },
   "source": [
    "### ตัวอย่างการทำงาน: \n",
    "        \n",
    "Name: Yaya\n",
    "\n",
    "Age : 70\n",
    "\n",
    "Yaya95@chula.ac.th"
   ]
  },
  {
   "cell_type": "code",
   "execution_count": null,
   "metadata": {
    "deletable": false,
    "nbgrader": {
     "cell_type": "code",
     "checksum": "652273fc2a8fde06152d5019bcd5ed52",
     "grade": false,
     "grade_id": "email_address",
     "locked": false,
     "schema_version": 3,
     "solution": true
    }
   },
   "outputs": [],
   "source": [
    "def run():\n",
    "    # YOUR CODE HERE"
   ]
  },
  {
   "cell_type": "code",
   "execution_count": null,
   "metadata": {
    "deletable": false,
    "editable": false,
    "nbgrader": {
     "cell_type": "code",
     "checksum": "e75533d6b8b33fdc66859afe7c9db0bc",
     "grade": false,
     "grade_id": "cell-956082f75e6b7e9b",
     "locked": true,
     "schema_version": 3,
     "solution": false,
     "task": false
    }
   },
   "outputs": [],
   "source": [
    "'''ตรวจสอบผลลัพธ์ของโปรแกรมด้วยการรันที่ cell นี้'''\n",
    "run()"
   ]
  },
  {
   "cell_type": "code",
   "execution_count": null,
   "metadata": {
    "deletable": false,
    "editable": false,
    "nbgrader": {
     "cell_type": "code",
     "checksum": "5d08e43a72cfd2c297e209e4beffb3fd",
     "grade": true,
     "grade_id": "exact",
     "locked": false,
     "points": 3,
     "schema_version": 3,
     "solution": false
    }
   },
   "outputs": [],
   "source": [
    "from unittest.mock import patch\n",
    "from io import StringIO\n",
    "from datetime import date \n",
    "\n",
    "def test(inputs,expected_output): \n",
    "    with patch('builtins.input', side_effect=inputs), patch('sys.stdout', new_callable=StringIO) as mock_stdout:\n",
    "        run()\n",
    "        assert mock_stdout.getvalue() == expected_output,mock_stdout.getvalue()\n",
    "        \n",
    "'''ตรวจสอบเลขสองตัวท้ายและการแสดงผลลัพธ์'''\n",
    "'''กรณีเลขสองตัวท้ายของปีเกิดอยู่ในช่วง 10-99'''\n",
    "test(['Somsak','19'],'Somsak46@chula.ac.th\\n')\n",
    "test(['Jaidee','64'],'Jaidee01@chula.ac.th\\n')  \n",
    "test(['Yaya','70'],'Yaya95@chula.ac.th\\n')  \n"
   ]
  },
  {
   "cell_type": "code",
   "execution_count": null,
   "metadata": {
    "deletable": false,
    "editable": false,
    "nbgrader": {
     "cell_type": "code",
     "checksum": "9510d12489a982625e8b5ca2f3d4d220",
     "grade": true,
     "grade_id": "twodigit",
     "locked": true,
     "points": 1,
     "schema_version": 3,
     "solution": false,
     "task": false
    }
   },
   "outputs": [],
   "source": [
    "'''ตรวจสอบเลขสองตัวท้ายและการแสดงผลลัพธ์'''\n",
    "'''กรณีเลขสองตัวท้ายของปีเกิดอยู่ในช่วง 00-09'''\n",
    "test(['Somsak','65'],'Somsak00@chula.ac.th\\n')\n",
    "test(['Yaya','56'],'Yaya09@chula.ac.th\\n')  "
   ]
  }
 ],
 "metadata": {
  "kernelspec": {
   "display_name": "Python 3 (ipykernel)",
   "language": "python",
   "name": "python3"
  },
  "language_info": {
   "codemirror_mode": {
    "name": "ipython",
    "version": 3
   },
   "file_extension": ".py",
   "mimetype": "text/x-python",
   "name": "python",
   "nbconvert_exporter": "python",
   "pygments_lexer": "ipython3",
   "version": "3.9.12"
  }
 },
 "nbformat": 4,
 "nbformat_minor": 1
}
