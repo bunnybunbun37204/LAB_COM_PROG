{
 "cells": [
  {
   "cell_type": "markdown",
   "metadata": {
    "deletable": false,
    "editable": false,
    "nbgrader": {
     "cell_type": "markdown",
     "checksum": "40d226f2a05254d338db105501947657",
     "grade": false,
     "grade_id": "cell-dbf37dcea5d7dc5c",
     "locked": true,
     "schema_version": 3,
     "solution": false,
     "task": false
    }
   },
   "source": [
    "## Q1 (2 points)\n",
    "จงเขียนโปรแกรมที่คำนวณหาผลเฉลยของสมการกำลังสอง (quadratic equation) โดยให้รับสัมประสิทธิ์\n",
    "$𝑎, 𝑏, 𝑐$ ในสมการ $𝑎𝑥^2 + 𝑏𝑥 + 𝑐 = 0$ จากผู้ใช้แล้วคำนวณหาผลเฉลยจากสูตร $𝑥 = \\frac{−𝑏± \\sqrt{b^2-4ac}} {2a} $ แล้ว\n",
    "แสดงผลลัพธ์ดังตัวอย่างข้างล่างนี้ ($𝑎$ ต้องไม่เป็น $0$ และ $𝑏^2 > 4𝑎𝑐$)\n",
    "\n",
    "หมายเหตุ: การหารากที่สองทำได้โดยใช้การยกกำลัง ½ เช่น 2**0.5 หรือ ใช้ฟังก์ชัน sqrt ในโมดูล math ซึ่ง\n",
    "ต้องใช้คำสั่ง import math เพื่อระบุว่าโปรแกรมนี้ใช้ฟังก์ชันในโมดูล math และ เรียกใช้ฟังก์ชัน sqrt ดัง\n",
    "ตัวอย่างนี้\n",
    "\n",
    "import math\n",
    "\n",
    "z = math.sqrt(2) # value in z is 1.4142135…"
   ]
  },
  {
   "cell_type": "markdown",
   "metadata": {
    "deletable": false,
    "editable": false,
    "nbgrader": {
     "cell_type": "markdown",
     "checksum": "21268820b57cab4a8a226e4476f46098",
     "grade": false,
     "grade_id": "cell-7ae57c7b0fc2869d",
     "locked": true,
     "schema_version": 3,
     "solution": false,
     "task": false
    }
   },
   "source": [
    "### ตัวอย่างการทำงาน: \n",
    "\n",
    "Enter coefficients a, b, c : **1,4,3** <br>\n",
    "x = -1.0 , -3.0"
   ]
  },
  {
   "cell_type": "markdown",
   "metadata": {
    "deletable": false,
    "editable": false,
    "nbgrader": {
     "cell_type": "markdown",
     "checksum": "386a20e0801db397b560dfeec7a98837",
     "grade": false,
     "grade_id": "cell-1b10c564484fa711",
     "locked": true,
     "schema_version": 3,
     "solution": false,
     "task": false
    }
   },
   "source": [
    "###  ตัวอย่างการทำงาน: \n",
    "\n",
    "Enter coefficients a, b, c : **2.5,-8.7,2.1** <br>\n",
    "x = 3.219053751558745 , 0.26094624844125425"
   ]
  },
  {
   "cell_type": "code",
   "execution_count": 34,
   "metadata": {
    "deletable": false,
    "nbgrader": {
     "cell_type": "code",
     "checksum": "00b4f29d142119c6df600285bfcbb9ed",
     "grade": false,
     "grade_id": "quardatic",
     "locked": false,
     "schema_version": 3,
     "solution": true
    }
   },
   "outputs": [],
   "source": [
    "def run():\n",
    "    # YOUR CODE HERE\n",
    "    a, b, c = [float(x) for x in (input(\"Enter coefficients a, b, c : \").split(\",\"))]\n",
    "    if a == 0 or b ** 2 < 4 * a * c:\n",
    "        return\n",
    "    top_right = (b ** 2) - (4 * a * c)\n",
    "    x1 = (-b + (top_right ** 0.5)) / (2 * a)\n",
    "    x2 = (-b - (top_right ** 0.5)) / (2 * a)\n",
    "    print(\"x = {} , {}\".format(x1, x2))"
   ]
  },
  {
   "cell_type": "code",
   "execution_count": 35,
   "metadata": {
    "deletable": false,
    "editable": false,
    "nbgrader": {
     "cell_type": "code",
     "checksum": "b7b03893ed0aaf1a2af60ae612b4be37",
     "grade": false,
     "grade_id": "cell-befa13e6c82bd29b",
     "locked": true,
     "schema_version": 3,
     "solution": false,
     "task": false
    }
   },
   "outputs": [
    {
     "name": "stdout",
     "output_type": "stream",
     "text": [
      "Enter coefficients a, b, c : 1,4,3\n",
      "x = -1.0 , -3.0\n"
     ]
    }
   ],
   "source": [
    "'''ตรวจสอบผลลัพธ์ของโปรแกรมด้วยการรันที่ cell นี้'''\n",
    "run()"
   ]
  },
  {
   "cell_type": "code",
   "execution_count": 36,
   "metadata": {
    "deletable": false,
    "editable": false,
    "nbgrader": {
     "cell_type": "code",
     "checksum": "4a028639f32feb77869654d83aadff95",
     "grade": true,
     "grade_id": "partial",
     "locked": true,
     "points": 1,
     "schema_version": 3,
     "solution": false,
     "task": false
    }
   },
   "outputs": [],
   "source": [
    "'''ตรวจสอบผลการคำนวณ'''\n",
    "from unittest.mock import patch\n",
    "from io import StringIO\n",
    "import math\n",
    "\n",
    "def test(inputs,expected_output,exact_output): \n",
    "    with patch('builtins.input', side_effect=inputs), patch('sys.stdout', new_callable=StringIO) as mock_stdout:\n",
    "        run()\n",
    "        if exact_output:\n",
    "            x, eq, r1, comma, r2 = expected_output.split(' ')\n",
    "            r1 = round(float(r1),4)\n",
    "            r2 = round(float(r2),4)\n",
    "            x_ans, eq_ans, ans1, ans_comma, ans2 = mock_stdout.getvalue().split(' ')\n",
    "            ans1 = round(float(ans1),4)\n",
    "            ans2 = round(float(ans2),4)\n",
    "            assert r1==ans1 and comma==ans_comma and r2==ans2 , mock_stdout.getvalue()\n",
    "        else:\n",
    "            r1, comma, r2 = expected_output.split(' ')\n",
    "            r1 = math.floor(float(r1))\n",
    "            r2 = math.floor(float(r2))\n",
    "            ans = mock_stdout.getvalue().split(' ')\n",
    "            ans1 = math.floor(float(ans[-3]))\n",
    "            ans2 = math.floor(float(ans[-1]))\n",
    "            assert r1==ans1 and r2==ans2, mock_stdout.getvalue()\n",
    "       \n",
    "test(['1,4,3'],'-1.0 , -3.0',exact_output=False)\n",
    "test(['2.5,-8.7,2.1'],'3.219053751558745 , 0.26094624844125425',exact_output=False)\n",
    "\n"
   ]
  },
  {
   "cell_type": "code",
   "execution_count": 37,
   "metadata": {
    "deletable": false,
    "editable": false,
    "nbgrader": {
     "cell_type": "code",
     "checksum": "fcdeb6a12a5ca50401e132809ac0ce5b",
     "grade": true,
     "grade_id": "exact",
     "locked": false,
     "points": 1,
     "schema_version": 3,
     "solution": false
    }
   },
   "outputs": [],
   "source": [
    "'''ตรวจสอบผลการคำนวณและการแสดงผลลัพธ์ให้เหมือนกับโจทย์ที่กำหนดให้'''\n",
    "test(['1,4,3'],'x = -1.0 , -3.0\\n',exact_output=True)\n",
    "test(['2.5,-8.7,2.1'],'x = 3.219053751558745 , 0.26094624844125425\\n',exact_output=True)\n"
   ]
  },
  {
   "cell_type": "code",
   "execution_count": null,
   "metadata": {},
   "outputs": [],
   "source": []
  }
 ],
 "metadata": {
  "kernelspec": {
   "display_name": "Python 3 (ipykernel)",
   "language": "python",
   "name": "python3"
  },
  "language_info": {
   "codemirror_mode": {
    "name": "ipython",
    "version": 3
   },
   "file_extension": ".py",
   "mimetype": "text/x-python",
   "name": "python",
   "nbconvert_exporter": "python",
   "pygments_lexer": "ipython3",
   "version": "3.9.12"
  }
 },
 "nbformat": 4,
 "nbformat_minor": 1
}
