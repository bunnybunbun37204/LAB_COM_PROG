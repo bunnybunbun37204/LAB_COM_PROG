{
 "cells": [
  {
   "cell_type": "markdown",
   "metadata": {
    "deletable": false,
    "editable": false,
    "nbgrader": {
     "cell_type": "markdown",
     "checksum": "52a39864f564c926f37affe6092fd540",
     "grade": false,
     "grade_id": "cell-398406881230365d",
     "locked": true,
     "schema_version": 3,
     "solution": false,
     "task": false
    }
   },
   "source": [
    "---\n",
    "## Q2 (2 points)\n",
    "จงเขียนโปรแกรมที่รับชื่อและนามสกุลจากผู้ใช้ แล้วนำมาสร้างเป็นสตริงใหม่ 2 สตริง โดย\n",
    "\n",
    "- สตริงหนึ่งเป็นชื่อต่อด้วยนามสกุลและมีช่องว่าง (blank) คั่นกลาง\n",
    "\n",
    "- อีกสตริงหนึ่งเป็นนามสกุลต่อด้วยชื่อและมี , ต่อด้วยช่องว่างคั่นกลาง\n",
    "\n",
    "แล้วแสดงผลลัพธ์ดังตัวอย่างข้างล่างนี้"
   ]
  },
  {
   "cell_type": "markdown",
   "metadata": {
    "deletable": false,
    "editable": false,
    "nbgrader": {
     "cell_type": "markdown",
     "checksum": "8170e11aa3038c2bc9e46fa83fd75760",
     "grade": false,
     "grade_id": "cell-f3a439bffd08ac59",
     "locked": true,
     "schema_version": 3,
     "solution": false,
     "task": false
    }
   },
   "source": [
    "### ตัวอย่างการทำงาน: \n",
    "\n",
    "Firstname Lastname: Somsak Saksri\n",
    "\n",
    "Hello! Somsak Saksri\n",
    "\n",
    "Saksri, Somsak "
   ]
  },
  {
   "cell_type": "markdown",
   "metadata": {
    "deletable": false,
    "editable": false,
    "nbgrader": {
     "cell_type": "markdown",
     "checksum": "11a320f61183c605587b7646c1e0dc46",
     "grade": false,
     "grade_id": "cell-a363ae6b283726a7",
     "locked": true,
     "schema_version": 3,
     "solution": false,
     "task": false
    }
   },
   "source": [
    "### ตัวอย่างการทำงาน: \n",
    "\n",
    "Firstname Lastname: Jackson Wang\n",
    "\n",
    "Hello! Jackson Wang\n",
    "\n",
    "Wang, Jackson "
   ]
  },
  {
   "cell_type": "code",
   "execution_count": null,
   "metadata": {
    "deletable": false,
    "nbgrader": {
     "cell_type": "code",
     "checksum": "2a0f7789ef8d5c07c72e9c770e9d79b3",
     "grade": false,
     "grade_id": "name",
     "locked": false,
     "schema_version": 3,
     "solution": true
    }
   },
   "outputs": [],
   "source": [
    "def run():\n",
    "    # YOUR CODE HERE\n",
    "    "
   ]
  },
  {
   "cell_type": "code",
   "execution_count": null,
   "metadata": {
    "deletable": false,
    "editable": false,
    "nbgrader": {
     "cell_type": "code",
     "checksum": "eb07e4767c226d16cef7b306c89d0752",
     "grade": false,
     "grade_id": "cell-2cee644d5334cd2e",
     "locked": true,
     "schema_version": 3,
     "solution": false,
     "task": false
    }
   },
   "outputs": [],
   "source": [
    "'''ตรวจสอบผลลัพธ์ของโปรแกรมด้วยการรันที่ cell นี้'''\n",
    "run()"
   ]
  },
  {
   "cell_type": "code",
   "execution_count": null,
   "metadata": {
    "deletable": false,
    "editable": false,
    "nbgrader": {
     "cell_type": "code",
     "checksum": "c874ef55ff164e84f796832df541257f",
     "grade": true,
     "grade_id": "correct_name",
     "locked": false,
     "points": 2,
     "schema_version": 3,
     "solution": false
    }
   },
   "outputs": [],
   "source": [
    "'''ตรวจสอบคำสั่ง print และผลลัพธ์'''\n",
    "from unittest.mock import patch\n",
    "from io import StringIO\n",
    "\n",
    "def test(inputs,expected_output): \n",
    "    with patch('builtins.input', side_effect=inputs), patch('sys.stdout', new_callable=StringIO) as mock_stdout:\n",
    "        run()\n",
    "        assert mock_stdout.getvalue() == expected_output,mock_stdout.getvalue()\n",
    "        \n",
    "test(['Somsak Saksri'],'Hello! Somsak Saksri\\nSaksri, Somsak\\n')\n",
    "test(['Jackson Wang'],'Hello! Jackson Wang\\nWang, Jackson\\n')"
   ]
  }
 ],
 "metadata": {
  "kernelspec": {
   "display_name": "Python 3 (ipykernel)",
   "language": "python",
   "name": "python3"
  },
  "language_info": {
   "codemirror_mode": {
    "name": "ipython",
    "version": 3
   },
   "file_extension": ".py",
   "mimetype": "text/x-python",
   "name": "python",
   "nbconvert_exporter": "python",
   "pygments_lexer": "ipython3",
   "version": "3.9.12"
  }
 },
 "nbformat": 4,
 "nbformat_minor": 1
}
