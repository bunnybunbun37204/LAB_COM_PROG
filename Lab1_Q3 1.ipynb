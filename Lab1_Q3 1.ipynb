{
 "cells": [
  {
   "cell_type": "markdown",
   "metadata": {
    "deletable": false,
    "editable": false,
    "nbgrader": {
     "cell_type": "markdown",
     "checksum": "a82c288be9df74a79621d2f0790c7fca",
     "grade": false,
     "grade_id": "cell-20924b808fa25efb",
     "locked": true,
     "schema_version": 3,
     "solution": false,
     "task": false
    }
   },
   "source": [
    "---\n",
    "## Q3 (2 points)\n",
    "จงเขียนโปรแกรมที่รับชื่อและอายุจากผู้ใช้ แล้วคำนวณปีเกิดของผู้ใช้และแสดงผลลัพธ์ดังตัวอย่างข้างล่างนี้"
   ]
  },
  {
   "cell_type": "markdown",
   "metadata": {
    "deletable": false,
    "editable": false,
    "nbgrader": {
     "cell_type": "markdown",
     "checksum": "3b591b73c85441f9ad81f1366e3ec634",
     "grade": false,
     "grade_id": "cell-cbdac9f5250c014f",
     "locked": true,
     "schema_version": 3,
     "solution": false,
     "task": false
    }
   },
   "source": [
    "### ตัวอย่างการรัน:\n",
    "\n",
    "Name, age: Somsak 19 \n",
    "\n",
    "Somsak's year of birth is 2546."
   ]
  },
  {
   "cell_type": "markdown",
   "metadata": {
    "deletable": false,
    "editable": false,
    "nbgrader": {
     "cell_type": "markdown",
     "checksum": "3d96badb6936c1facb6cb8538445fb7c",
     "grade": false,
     "grade_id": "cell-0cac2b00e77bbdea",
     "locked": true,
     "schema_version": 3,
     "solution": false,
     "task": false
    }
   },
   "source": [
    "### ตัวอย่างการรัน:\n",
    "\n",
    "Name, age: Bella 2 \n",
    "\n",
    "Bella's year of birth is 2563."
   ]
  },
  {
   "cell_type": "code",
   "execution_count": null,
   "metadata": {
    "deletable": false,
    "nbgrader": {
     "cell_type": "code",
     "checksum": "38de496f6b26b947cb5331941a46baaf",
     "grade": false,
     "grade_id": "year_of_birth",
     "locked": false,
     "schema_version": 3,
     "solution": true
    }
   },
   "outputs": [],
   "source": [
    "def run():\n",
    "    # YOUR CODE HERE\n",
    "    "
   ]
  },
  {
   "cell_type": "code",
   "execution_count": null,
   "metadata": {
    "deletable": false,
    "editable": false,
    "nbgrader": {
     "cell_type": "code",
     "checksum": "3b0fe3dae5e910d48beddb4954e3cba1",
     "grade": false,
     "grade_id": "cell-57afa2dd68c5d036",
     "locked": true,
     "schema_version": 3,
     "solution": false,
     "task": false
    }
   },
   "outputs": [],
   "source": [
    "'''ตรวจสอบผลลัพธ์ของโปรแกรมด้วยการรันที่ cell นี้'''\n",
    "run()"
   ]
  },
  {
   "cell_type": "code",
   "execution_count": null,
   "metadata": {
    "deletable": false,
    "editable": false,
    "nbgrader": {
     "cell_type": "code",
     "checksum": "c4f80da0eaadae9cb205adf32a6580be",
     "grade": true,
     "grade_id": "correct_year_of_birth",
     "locked": false,
     "points": 1,
     "schema_version": 3,
     "solution": false
    }
   },
   "outputs": [],
   "source": [
    "'''ตรวจสอบการคำนวณปีเกิด'''\n",
    "from unittest.mock import patch\n",
    "from io import StringIO\n",
    "from datetime import date \n",
    "\n",
    "def test(inputs,expected_output,exact_output=True): \n",
    "    with patch('builtins.input', side_effect=inputs), patch('sys.stdout', new_callable=StringIO) as mock_stdout:\n",
    "        run()     \n",
    "        if exact_output:\n",
    "            assert mock_stdout.getvalue() == expected_output,mock_stdout.getvalue()\n",
    "        else:\n",
    "            assert expected_output in mock_stdout.getvalue(),mock_stdout.getvalue()\n",
    "        \n",
    "test(['Somsak 19'],'2546',exact_output=False)\n",
    "test(['Bella 2'],'2563',exact_output=False)"
   ]
  },
  {
   "cell_type": "code",
   "execution_count": null,
   "metadata": {
    "deletable": false,
    "editable": false,
    "nbgrader": {
     "cell_type": "code",
     "checksum": "5b10c8779c6e1aac03899db58666cb14",
     "grade": true,
     "grade_id": "exact",
     "locked": true,
     "points": 1,
     "schema_version": 3,
     "solution": false,
     "task": false
    }
   },
   "outputs": [],
   "source": [
    "'''ตรวจสอบการคำนวณปีเกิดและการแสดงผลลัพธ์'''\n",
    "test(['Somsak 19'],\"Somsak's year of birth is 2546.\\n\",exact_output=True)\n",
    "test(['Bella 2'],\"Bella's year of birth is 2563.\\n\",exact_output=True)\n",
    "test(['Somsak 69'],\"Somsak's year of birth is 2496.\\n\",exact_output=True)\n",
    "test(['Kim 65'],\"Kim's year of birth is 2500.\\n\",exact_output=True)"
   ]
  }
 ],
 "metadata": {
  "kernelspec": {
   "display_name": "Python 3 (ipykernel)",
   "language": "python",
   "name": "python3"
  },
  "language_info": {
   "codemirror_mode": {
    "name": "ipython",
    "version": 3
   },
   "file_extension": ".py",
   "mimetype": "text/x-python",
   "name": "python",
   "nbconvert_exporter": "python",
   "pygments_lexer": "ipython3",
   "version": "3.9.12"
  }
 },
 "nbformat": 4,
 "nbformat_minor": 1
}
